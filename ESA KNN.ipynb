{
  "nbformat": 4,
  "nbformat_minor": 0,
  "metadata": {
    "kernelspec": {
      "display_name": "Python 3",
      "language": "python",
      "name": "python3"
    },
    "language_info": {
      "codemirror_mode": {
        "name": "ipython",
        "version": 3
      },
      "file_extension": ".py",
      "mimetype": "text/x-python",
      "name": "python",
      "nbconvert_exporter": "python",
      "pygments_lexer": "ipython3",
      "version": "3.6.3"
    },
    "colab": {
      "name": "IRIS-KNN.ipynb",
      "provenance": [],
      "include_colab_link": true
    }
  },
  "cells": [
    {
      "cell_type": "markdown",
      "metadata": {
        "id": "view-in-github",
        "colab_type": "text"
      },
      "source": [
        "<a href=\"https://colab.research.google.com/github/linsut/DatSci/blob/master/ESA%20KNN.ipynb\" target=\"_parent\"><img src=\"https://colab.research.google.com/assets/colab-badge.svg\" alt=\"Open In Colab\"/></a>"
      ]
    },
    {
      "cell_type": "markdown",
      "metadata": {
        "id": "pow52kfgsh0b",
        "colab_type": "text"
      },
      "source": [
        "##Exercise 1"
      ]
    },
    {
      "cell_type": "code",
      "metadata": {
        "id": "IRt9n8Xdw6nv",
        "colab_type": "code",
        "colab": {}
      },
      "source": [
        "import numpy as np\n",
        "from collections import Counter"
      ],
      "execution_count": 1,
      "outputs": []
    },
    {
      "cell_type": "code",
      "metadata": {
        "id": "aRVKXz-tsmHn",
        "colab_type": "code",
        "colab": {}
      },
      "source": [
        "def normalize(data):\n",
        "  #This only works on a two dimensional example\n",
        "  new_data = []\n",
        "  max1 = max(data[:][0])\n",
        "  min1 = min(data[:][0])\n",
        "  max2 = max(data[:][1])\n",
        "  min2 = min(data[:][1])\n",
        "  for index in range (0, len(data)):\n",
        "    new_data.append([(data[index][0] - min1) / (min1 -max1), (data[index][1] - min2) / (min2 -max2)])\n",
        "    #new_data[index][1] = (data[index][1] - min2) / (min2 -max2)\n",
        "\n",
        "  return new_data"
      ],
      "execution_count": 2,
      "outputs": []
    },
    {
      "cell_type": "code",
      "metadata": {
        "id": "OVOddTWysweQ",
        "colab_type": "code",
        "colab": {}
      },
      "source": [
        "def euclidian_distance(pointa, pointb):\n",
        "  sum = 0\n",
        "  for index in range(len(pointa)):\n",
        "    sum += (pointa[index] - pointb[index])**2\n",
        "\n",
        "  return np.sqrt(sum)\n"
      ],
      "execution_count": 3,
      "outputs": []
    },
    {
      "cell_type": "code",
      "metadata": {
        "id": "YiyVpcJss24A",
        "colab_type": "code",
        "colab": {}
      },
      "source": [
        "def get_neighbors(training_set, test_instance, labels, k):\n",
        "  distances = []\n",
        "  for index in range(len(training_set)):\n",
        "    dist = euclidian_distance(test_instance, training_set[index])\n",
        "    distances.append((training_set[index], dist, labels[index]))\n",
        "  distances.sort(key=lambda x: x[1])\n",
        "  neighbors = distances[:k]\n",
        "  return neighbors"
      ],
      "execution_count": 4,
      "outputs": []
    },
    {
      "cell_type": "code",
      "metadata": {
        "id": "n09hZe01tBta",
        "colab_type": "code",
        "colab": {}
      },
      "source": [
        "def vote(neighbors):\n",
        "  class_counter = Counter()\n",
        "  for neighbor in neighbors:\n",
        "    class_counter[neighbor[2]] += 1\n",
        "  return class_counter.most_common(1)[0][0]"
      ],
      "execution_count": 5,
      "outputs": []
    },
    {
      "cell_type": "markdown",
      "metadata": {
        "id": "Vl9Oo-WWy4YT",
        "colab_type": "text"
      },
      "source": [
        "An example with made-up data. Data does not stand for anything."
      ]
    },
    {
      "cell_type": "code",
      "metadata": {
        "id": "uRavZjX7vqB1",
        "colab_type": "code",
        "colab": {
          "base_uri": "https://localhost:8080/",
          "height": 54
        },
        "outputId": "7518907b-ef0a-4637-92ed-70121beebffc"
      },
      "source": [
        "data = [[0.8, 400],[12, 134000],[0, 20000],[67, 32000]]\n",
        "labels = [1, 0, 1, 0]\n",
        "new_data = normalize(data)\n",
        "print(new_data)\n",
        "print(\"Result of vote: \" + str(vote(get_neighbors(new_data[:-1], new_data[3], labels[:-1], 3))))"
      ],
      "execution_count": 7,
      "outputs": [
        {
          "output_type": "stream",
          "text": [
            "[[-0.0, -0.002895781711795086], [-0.028056112224448898, -1.0], [0.0020040080160320644, -0.14917753828701077], [-0.1658316633266533, -0.23873779741469386]]\n",
            "Result of vote: 1\n"
          ],
          "name": "stdout"
        }
      ]
    },
    {
      "cell_type": "markdown",
      "metadata": {
        "id": "LfN4ARUyynB7",
        "colab_type": "text"
      },
      "source": [
        "##Exercise 2"
      ]
    },
    {
      "cell_type": "code",
      "metadata": {
        "id": "tTvyGyjcynB9",
        "colab_type": "code",
        "colab": {}
      },
      "source": [
        "%matplotlib inline\n",
        "import numpy as np\n",
        "from sklearn import datasets\n",
        "\n",
        "iris = datasets.load_iris()\n",
        "iris_data = iris.data\n",
        "iris_labels = iris.target"
      ],
      "execution_count": 8,
      "outputs": []
    },
    {
      "cell_type": "markdown",
      "metadata": {
        "id": "ffHQ3dTfynCL",
        "colab_type": "text"
      },
      "source": [
        "To determine the similarity between two instances, we need a distance function. In our example, the Euclidean distance is ideal:"
      ]
    },
    {
      "cell_type": "code",
      "metadata": {
        "id": "oA4xwhYBynCM",
        "colab_type": "code",
        "colab": {}
      },
      "source": [
        "def distance(instance1, instance2):\n",
        "    # just in case, if the instances are lists or tuples:\n",
        "    instance1 = np.array(instance1) \n",
        "    instance2 = np.array(instance2)\n",
        "    \n",
        "    return np.linalg.norm(instance1 - instance2)"
      ],
      "execution_count": 9,
      "outputs": []
    },
    {
      "cell_type": "markdown",
      "metadata": {
        "id": "6qUryf0KynCO",
        "colab_type": "text"
      },
      "source": [
        "The function 'get_neighbors returns a list with 'k' neighbors, which are closest to the instance 'test_instance':"
      ]
    },
    {
      "cell_type": "code",
      "metadata": {
        "id": "mVDsbL6iynCP",
        "colab_type": "code",
        "colab": {}
      },
      "source": [
        "def get_neighbors(training_set, \n",
        "                  labels, \n",
        "                  test_instance, \n",
        "                  k, \n",
        "                  distance=distance):\n",
        "    \"\"\"\n",
        "    get_neighors calculates a list of the k nearest neighbors\n",
        "    of an instance 'test_instance'.\n",
        "    The list neighbors contains 3-tuples with  \n",
        "    (index, dist, label)\n",
        "    where \n",
        "    index    is the index from the training_set, \n",
        "    dist     is the distance between the test_instance and the \n",
        "             instance training_set[index]\n",
        "    distance is a reference to a function used to calculate the \n",
        "             distances\n",
        "    \"\"\"\n",
        "    distances = []\n",
        "    for index in range(len(training_set)):\n",
        "        dist = distance(test_instance, training_set[index])\n",
        "        distances.append((training_set[index], dist, labels[index]))\n",
        "    distances.sort(key=lambda x: x[1])\n",
        "    neighbors = distances[:k]\n",
        "    return neighbors"
      ],
      "execution_count": 12,
      "outputs": []
    },
    {
      "cell_type": "markdown",
      "metadata": {
        "id": "L3NPswQgynCV",
        "colab_type": "text"
      },
      "source": [
        "__Voting to get a Single Result__\n",
        "\n",
        "We will write a vote function now. This functions uses the class 'Counter' from collections to count the quantity of the classes inside of an instance list. This instance list will be the neighbors of course. The function 'vote' returns the most common class:"
      ]
    },
    {
      "cell_type": "code",
      "metadata": {
        "id": "8hAkgaGbynCV",
        "colab_type": "code",
        "colab": {}
      },
      "source": [
        "def vote(neighbors):\n",
        "    class_counter = Counter()\n",
        "    for neighbor in neighbors:\n",
        "        class_counter[neighbor[2]] += 1\n",
        "    return class_counter.most_common(1)[0][0]"
      ],
      "execution_count": 13,
      "outputs": []
    },
    {
      "cell_type": "markdown",
      "metadata": {
        "id": "izhYdRJir_Io",
        "colab_type": "text"
      },
      "source": [
        "Now to classify our new data"
      ]
    },
    {
      "cell_type": "code",
      "metadata": {
        "id": "ctmyTsmOynCY",
        "colab_type": "code",
        "colab": {
          "base_uri": "https://localhost:8080/",
          "height": 35
        },
        "outputId": "4738c435-032e-42c2-ed36-8a8da6afd53e"
      },
      "source": [
        "neighbors = get_neighbors(iris_data, iris_labels, \n",
        "                          [[4.8,2.5,5.3,2.4]], \n",
        "                          3, \n",
        "                          distance=distance)\n",
        "                              \n",
        "print(\"Result of vote: \", iris.target_names[vote(neighbors)])"
      ],
      "execution_count": 14,
      "outputs": [
        {
          "output_type": "stream",
          "text": [
            "Result of vote:  virginica\n"
          ],
          "name": "stdout"
        }
      ]
    },
    {
      "cell_type": "markdown",
      "metadata": {
        "id": "YwIruqPeynCb",
        "colab_type": "text"
      },
      "source": [
        "'vote_prob' is a function like 'vote' but returns the class name and the probability for this class:"
      ]
    },
    {
      "cell_type": "code",
      "metadata": {
        "id": "PcfsIsihynCb",
        "colab_type": "code",
        "colab": {}
      },
      "source": [
        "def vote_prob(neighbors):\n",
        "    class_counter = Counter()\n",
        "    for neighbor in neighbors:\n",
        "        class_counter[neighbor[2]] += 1\n",
        "    labels, votes = zip(*class_counter.most_common())\n",
        "    winner = class_counter.most_common(1)[0][0]\n",
        "    votes4winner = class_counter.most_common(1)[0][1]\n",
        "    return winner, votes4winner/sum(votes)"
      ],
      "execution_count": 15,
      "outputs": []
    },
    {
      "cell_type": "markdown",
      "metadata": {
        "id": "7W3GE77hsFnV",
        "colab_type": "text"
      },
      "source": [
        "The same test with our new data, with a different k this time."
      ]
    },
    {
      "cell_type": "code",
      "metadata": {
        "id": "B2YiwGS6ynCe",
        "colab_type": "code",
        "colab": {
          "base_uri": "https://localhost:8080/",
          "height": 35
        },
        "outputId": "4bc1c206-131c-4e26-e73b-45e9744610df"
      },
      "source": [
        "neighbors = get_neighbors(iris_data, iris_labels, \n",
        "                          [[4.8,2.5,5.3,2.4]], \n",
        "                          5, \n",
        "                          distance=distance)\n",
        "\n",
        "result, propability = vote_prob(neighbors)\n",
        "print(\"Result of vote: \", iris.target_names[result], \" with propability \" + str(propability))"
      ],
      "execution_count": 16,
      "outputs": [
        {
          "output_type": "stream",
          "text": [
            "Result of vote:  virginica  with propability 1.0\n"
          ],
          "name": "stdout"
        }
      ]
    }
  ]
}