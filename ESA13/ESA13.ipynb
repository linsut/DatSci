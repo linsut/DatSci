{
 "cells": [
  {
   "cell_type": "markdown",
   "metadata": {},
   "source": [
    "1) Install Spark. Explain how you installed. Did you experience any obstacles? How did you solve installation problems?"
   ]
  },
  {
   "cell_type": "markdown",
   "metadata": {},
   "source": [
    "(Working on Windows) I downloaded the hadoop version of spark 3.0, unzipped it and altered some of my system environment variables (JAVA_HOME, SPARK_HOME, HADOOP_HOME) . The command line tool worked after installing python again. It worked seamlessly with Anaconda and Jupyter notebook after ```pip install pyspark``` and ```pip install findspark```."
   ]
  },
  {
   "cell_type": "markdown",
   "metadata": {},
   "source": [
    "2) Clean the file (there is some legal text at the beginning and in the file; you can do it by hand if needed)\n",
    "\n",
    "and search for the 24th most used word in Shakespeares writings)"
   ]
  },
  {
   "cell_type": "code",
   "execution_count": 1,
   "metadata": {},
   "outputs": [],
   "source": [
    "import findspark\n",
    "findspark.init()\n",
    "\n",
    "from pyspark import SparkContext, SparkConf\n",
    "\n",
    "import string"
   ]
  },
  {
   "cell_type": "code",
   "execution_count": 2,
   "metadata": {},
   "outputs": [],
   "source": [
    "#Clean the text file\n",
    "#delete the lines that are not important to the texts, \n",
    "#legal text ends at 'by William Shakespeare\\n' and starts again at \"THE END\\n\"\n",
    "file = open(\"./shakespeare.txt\", \"r\")\n",
    "lines = file.readlines()\n",
    "clean_file=[]\n",
    "file.close()\n",
    "i=0\n",
    "while(lines[i] != 'by William Shakespeare\\n'):\n",
    "    i+=1\n",
    "i+=1\n",
    "while(lines[i] != \"THE END\\n\"):\n",
    "    if(lines[i] != \"\\n\"):\n",
    "        clean_file.append(lines[i])\n",
    "    i+=1\n",
    "        \n"
   ]
  },
  {
   "cell_type": "code",
   "execution_count": 3,
   "metadata": {},
   "outputs": [
    {
     "name": "stdout",
     "output_type": "stream",
     "text": [
      "24th most used word:\" it \", used  111 times\n"
     ]
    }
   ],
   "source": [
    "conf = SparkConf().setAppName(\"word count\").setMaster(\"local[2]\")\n",
    "sc = SparkContext.getOrCreate(conf = conf)\n",
    "\n",
    "#delete the lines that are not important to the texts\n",
    "words = sc.parallelize(clean_file)\n",
    "\n",
    "#Trim whitespaces, lowercase words\n",
    "#Split line to get actual words\n",
    "words = words.flatMap(lambda line : line.strip().lower().split(\" \"))\n",
    "\n",
    "#strip punctuation except for \"'\" which in this case, sometimes holds actual information\n",
    "exclude = string.punctuation\n",
    "exclude = exclude.replace(\"\\'\", \"\")\n",
    "words = words.map(lambda line : line.translate(str.maketrans('', '', exclude)))\n",
    "\n",
    "#filter any numbers because they don't hold info\n",
    "words = words.filter(lambda line : not line.isnumeric())\n",
    "#print(words.take(10))\n",
    "\n",
    "\n",
    "wordCount = words.countByValue()\n",
    "top25 = sorted(wordCount.items(), key=(lambda k: k[1]), reverse=True)[:25]\n",
    "#print(top25)\n",
    "#24th most used word without filtering stopwords\n",
    "print(\"24th most used word:\\\"\", top25[23][0], \"\\\", used \", top25[23][1], \"times\")"
   ]
  },
  {
   "cell_type": "code",
   "execution_count": null,
   "metadata": {},
   "outputs": [],
   "source": []
  }
 ],
 "metadata": {
  "kernelspec": {
   "display_name": "Python 3",
   "language": "python",
   "name": "python3"
  },
  "language_info": {
   "codemirror_mode": {
    "name": "ipython",
    "version": 3
   },
   "file_extension": ".py",
   "mimetype": "text/x-python",
   "name": "python",
   "nbconvert_exporter": "python",
   "pygments_lexer": "ipython3",
   "version": "3.7.6"
  }
 },
 "nbformat": 4,
 "nbformat_minor": 4
}
