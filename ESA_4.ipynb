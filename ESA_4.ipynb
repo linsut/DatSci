{
  "nbformat": 4,
  "nbformat_minor": 0,
  "metadata": {
    "colab": {
      "name": "ESA 4.ipynb",
      "provenance": [],
      "collapsed_sections": []
    },
    "kernelspec": {
      "name": "python3",
      "display_name": "Python 3"
    }
  },
  "cells": [
    {
      "cell_type": "code",
      "metadata": {
        "id": "_kFGhd4TZHc_",
        "colab_type": "code",
        "colab": {}
      },
      "source": [
        "import pandas as pd\n",
        "\n",
        "url = 'https://raw.githubusercontent.com/edlich/eternalrepo/master/DS-WAHLFACH/countries.csv'\n",
        "countries = pd.read_csv(url)\n"
      ],
      "execution_count": 0,
      "outputs": []
    },
    {
      "cell_type": "code",
      "metadata": {
        "id": "TdzZWM9SaOLy",
        "colab_type": "code",
        "colab": {
          "base_uri": "https://localhost:8080/",
          "height": 146
        },
        "outputId": "a937e87c-9b2d-427c-ea8b-0cc4a1a03800"
      },
      "source": [
        "print(\"Rows: \", countries.shape[0])\n",
        "print(\"Columns: \", countries.shape[1])\n",
        "print('Mean values:\\n', countries.mean())"
      ],
      "execution_count": 19,
      "outputs": [
        {
          "output_type": "stream",
          "text": [
            "Rows:  5\n",
            "Columns:  5\n",
            "Mean values:\n",
            " People    102786293.6\n",
            "Area        3907399.6\n",
            "BIP            2716.2\n",
            "dtype: float64\n"
          ],
          "name": "stdout"
        }
      ]
    },
    {
      "cell_type": "code",
      "metadata": {
        "id": "uxMg9iIxccNy",
        "colab_type": "code",
        "colab": {
          "base_uri": "https://localhost:8080/",
          "height": 175
        },
        "outputId": "418d2fb7-f15f-4824-f9e8-60ee524c3889"
      },
      "source": [
        "countries.tail(4)"
      ],
      "execution_count": 11,
      "outputs": [
        {
          "output_type": "execute_result",
          "data": {
            "text/html": [
              "<div>\n",
              "<style scoped>\n",
              "    .dataframe tbody tr th:only-of-type {\n",
              "        vertical-align: middle;\n",
              "    }\n",
              "\n",
              "    .dataframe tbody tr th {\n",
              "        vertical-align: top;\n",
              "    }\n",
              "\n",
              "    .dataframe thead th {\n",
              "        text-align: right;\n",
              "    }\n",
              "</style>\n",
              "<table border=\"1\" class=\"dataframe\">\n",
              "  <thead>\n",
              "    <tr style=\"text-align: right;\">\n",
              "      <th></th>\n",
              "      <th>Name</th>\n",
              "      <th>People</th>\n",
              "      <th>Area</th>\n",
              "      <th>BIP</th>\n",
              "      <th>Currency</th>\n",
              "    </tr>\n",
              "  </thead>\n",
              "  <tbody>\n",
              "    <tr>\n",
              "      <th>1</th>\n",
              "      <td>Japan</td>\n",
              "      <td>126045000</td>\n",
              "      <td>377835</td>\n",
              "      <td>4938</td>\n",
              "      <td>YEN</td>\n",
              "    </tr>\n",
              "    <tr>\n",
              "      <th>2</th>\n",
              "      <td>Canada</td>\n",
              "      <td>36503097</td>\n",
              "      <td>9984670</td>\n",
              "      <td>1529</td>\n",
              "      <td>CAD</td>\n",
              "    </tr>\n",
              "    <tr>\n",
              "      <th>3</th>\n",
              "      <td>Italy</td>\n",
              "      <td>60501718</td>\n",
              "      <td>301338</td>\n",
              "      <td>1850</td>\n",
              "      <td>EUR</td>\n",
              "    </tr>\n",
              "    <tr>\n",
              "      <th>4</th>\n",
              "      <td>Brazilia</td>\n",
              "      <td>208360000</td>\n",
              "      <td>8515770</td>\n",
              "      <td>1798</td>\n",
              "      <td>REAL</td>\n",
              "    </tr>\n",
              "  </tbody>\n",
              "</table>\n",
              "</div>"
            ],
            "text/plain": [
              "       Name     People     Area   BIP Currency\n",
              "1     Japan  126045000   377835  4938      YEN\n",
              "2    Canada   36503097  9984670  1529      CAD\n",
              "3     Italy   60501718   301338  1850      EUR\n",
              "4  Brazilia  208360000  8515770  1798     REAL"
            ]
          },
          "metadata": {
            "tags": []
          },
          "execution_count": 11
        }
      ]
    },
    {
      "cell_type": "code",
      "metadata": {
        "id": "AEbMTnL6c3wx",
        "colab_type": "code",
        "colab": {
          "base_uri": "https://localhost:8080/",
          "height": 72
        },
        "outputId": "d40717b6-4713-4b2e-a079-3ad08fbb1bfd"
      },
      "source": [
        "print(countries[countries['Currency'] == 'EUR'])"
      ],
      "execution_count": 24,
      "outputs": [
        {
          "output_type": "stream",
          "text": [
            "      Name    People    Area   BIP Currency\n",
            "0  Germany  82521653  357385  3466      EUR\n",
            "3    Italy  60501718  301338  1850      EUR\n"
          ],
          "name": "stdout"
        }
      ]
    },
    {
      "cell_type": "code",
      "metadata": {
        "id": "43_c9f3DgCLv",
        "colab_type": "code",
        "colab": {
          "base_uri": "https://localhost:8080/",
          "height": 206
        },
        "outputId": "35f83aab-c428-4703-8707-b86a666a797e"
      },
      "source": [
        "c = countries.loc[:,['Name', 'Currency']]\n",
        "c"
      ],
      "execution_count": 32,
      "outputs": [
        {
          "output_type": "execute_result",
          "data": {
            "text/html": [
              "<div>\n",
              "<style scoped>\n",
              "    .dataframe tbody tr th:only-of-type {\n",
              "        vertical-align: middle;\n",
              "    }\n",
              "\n",
              "    .dataframe tbody tr th {\n",
              "        vertical-align: top;\n",
              "    }\n",
              "\n",
              "    .dataframe thead th {\n",
              "        text-align: right;\n",
              "    }\n",
              "</style>\n",
              "<table border=\"1\" class=\"dataframe\">\n",
              "  <thead>\n",
              "    <tr style=\"text-align: right;\">\n",
              "      <th></th>\n",
              "      <th>Name</th>\n",
              "      <th>Currency</th>\n",
              "    </tr>\n",
              "  </thead>\n",
              "  <tbody>\n",
              "    <tr>\n",
              "      <th>0</th>\n",
              "      <td>Germany</td>\n",
              "      <td>EUR</td>\n",
              "    </tr>\n",
              "    <tr>\n",
              "      <th>1</th>\n",
              "      <td>Japan</td>\n",
              "      <td>YEN</td>\n",
              "    </tr>\n",
              "    <tr>\n",
              "      <th>2</th>\n",
              "      <td>Canada</td>\n",
              "      <td>CAD</td>\n",
              "    </tr>\n",
              "    <tr>\n",
              "      <th>3</th>\n",
              "      <td>Italy</td>\n",
              "      <td>EUR</td>\n",
              "    </tr>\n",
              "    <tr>\n",
              "      <th>4</th>\n",
              "      <td>Brazilia</td>\n",
              "      <td>REAL</td>\n",
              "    </tr>\n",
              "  </tbody>\n",
              "</table>\n",
              "</div>"
            ],
            "text/plain": [
              "       Name Currency\n",
              "0   Germany      EUR\n",
              "1     Japan      YEN\n",
              "2    Canada      CAD\n",
              "3     Italy      EUR\n",
              "4  Brazilia     REAL"
            ]
          },
          "metadata": {
            "tags": []
          },
          "execution_count": 32
        }
      ]
    },
    {
      "cell_type": "code",
      "metadata": {
        "id": "O59RdDiigkzO",
        "colab_type": "code",
        "colab": {
          "base_uri": "https://localhost:8080/",
          "height": 72
        },
        "outputId": "2e540e8e-685b-463e-f412-45f5fed52c56"
      },
      "source": [
        "print(countries[countries['BIP'] >= 2000])"
      ],
      "execution_count": 26,
      "outputs": [
        {
          "output_type": "stream",
          "text": [
            "      Name     People    Area   BIP Currency\n",
            "0  Germany   82521653  357385  3466      EUR\n",
            "1    Japan  126045000  377835  4938      YEN\n"
          ],
          "name": "stdout"
        }
      ]
    },
    {
      "cell_type": "code",
      "metadata": {
        "id": "M5E3fNlsg5jv",
        "colab_type": "code",
        "colab": {
          "base_uri": "https://localhost:8080/",
          "height": 90
        },
        "outputId": "2ab9f54d-88f8-4073-8030-4512b6ddbf0b"
      },
      "source": [
        "print(countries.loc[(countries['People'] >= 50000000) & (countries['People'] <= 150000000)])"
      ],
      "execution_count": 33,
      "outputs": [
        {
          "output_type": "stream",
          "text": [
            "      Name     People    Area   BIP Currency\n",
            "0  Germany   82521653  357385  3466      EUR\n",
            "1    Japan  126045000  377835  4938      YEN\n",
            "3    Italy   60501718  301338  1850      EUR\n"
          ],
          "name": "stdout"
        }
      ]
    },
    {
      "cell_type": "code",
      "metadata": {
        "id": "K1GZpHO9hSao",
        "colab_type": "code",
        "colab": {
          "base_uri": "https://localhost:8080/",
          "height": 206
        },
        "outputId": "b40be301-406f-4f8e-cdc5-787d21001fa1"
      },
      "source": [
        "countries = countries.rename(columns={\"BIP\":\"Bip\"})\n",
        "countries"
      ],
      "execution_count": 72,
      "outputs": [
        {
          "output_type": "execute_result",
          "data": {
            "text/html": [
              "<div>\n",
              "<style scoped>\n",
              "    .dataframe tbody tr th:only-of-type {\n",
              "        vertical-align: middle;\n",
              "    }\n",
              "\n",
              "    .dataframe tbody tr th {\n",
              "        vertical-align: top;\n",
              "    }\n",
              "\n",
              "    .dataframe thead th {\n",
              "        text-align: right;\n",
              "    }\n",
              "</style>\n",
              "<table border=\"1\" class=\"dataframe\">\n",
              "  <thead>\n",
              "    <tr style=\"text-align: right;\">\n",
              "      <th></th>\n",
              "      <th>Name</th>\n",
              "      <th>People</th>\n",
              "      <th>Area</th>\n",
              "      <th>Bip</th>\n",
              "      <th>Currency</th>\n",
              "    </tr>\n",
              "  </thead>\n",
              "  <tbody>\n",
              "    <tr>\n",
              "      <th>4</th>\n",
              "      <td>Brazilia</td>\n",
              "      <td>208360000</td>\n",
              "      <td>8515770</td>\n",
              "      <td>1798</td>\n",
              "      <td>REAL</td>\n",
              "    </tr>\n",
              "    <tr>\n",
              "      <th>2</th>\n",
              "      <td>Canada</td>\n",
              "      <td>36503097</td>\n",
              "      <td>9984670</td>\n",
              "      <td>1529</td>\n",
              "      <td>CAD</td>\n",
              "    </tr>\n",
              "    <tr>\n",
              "      <th>0</th>\n",
              "      <td>Germany</td>\n",
              "      <td>82521653</td>\n",
              "      <td>357385</td>\n",
              "      <td>3466</td>\n",
              "      <td>EUR</td>\n",
              "    </tr>\n",
              "    <tr>\n",
              "      <th>3</th>\n",
              "      <td>Italy</td>\n",
              "      <td>60501718</td>\n",
              "      <td>301338</td>\n",
              "      <td>1850</td>\n",
              "      <td>EUR</td>\n",
              "    </tr>\n",
              "    <tr>\n",
              "      <th>1</th>\n",
              "      <td>Japan</td>\n",
              "      <td>126045000</td>\n",
              "      <td>377835</td>\n",
              "      <td>4938</td>\n",
              "      <td>YEN</td>\n",
              "    </tr>\n",
              "  </tbody>\n",
              "</table>\n",
              "</div>"
            ],
            "text/plain": [
              "       Name     People     Area   Bip Currency\n",
              "4  Brazilia  208360000  8515770  1798     REAL\n",
              "2    Canada   36503097  9984670  1529      CAD\n",
              "0   Germany   82521653   357385  3466      EUR\n",
              "3     Italy   60501718   301338  1850      EUR\n",
              "1     Japan  126045000   377835  4938      YEN"
            ]
          },
          "metadata": {
            "tags": []
          },
          "execution_count": 72
        }
      ]
    },
    {
      "cell_type": "code",
      "metadata": {
        "id": "Q7-CNmbNj5O-",
        "colab_type": "code",
        "colab": {
          "base_uri": "https://localhost:8080/",
          "height": 35
        },
        "outputId": "1db277e2-ae24-44d0-9bb0-a0320b6e9979"
      },
      "source": [
        "print(countries['Bip'].sum())"
      ],
      "execution_count": 43,
      "outputs": [
        {
          "output_type": "stream",
          "text": [
            "13581\n"
          ],
          "name": "stdout"
        }
      ]
    },
    {
      "cell_type": "code",
      "metadata": {
        "id": "FZ4GWmPWlB9O",
        "colab_type": "code",
        "colab": {
          "base_uri": "https://localhost:8080/",
          "height": 35
        },
        "outputId": "a8212645-811a-443a-845b-e012101f892b"
      },
      "source": [
        "print(countries['People'].mean())"
      ],
      "execution_count": 44,
      "outputs": [
        {
          "output_type": "stream",
          "text": [
            "102786293.6\n"
          ],
          "name": "stdout"
        }
      ]
    },
    {
      "cell_type": "code",
      "metadata": {
        "id": "k_IJlk8wmLdv",
        "colab_type": "code",
        "colab": {
          "base_uri": "https://localhost:8080/",
          "height": 206
        },
        "outputId": "d0da3a9e-79d8-46c7-c4b2-a5658509bfc3"
      },
      "source": [
        "countries = countries.sort_values('Name')\n",
        "countries"
      ],
      "execution_count": 83,
      "outputs": [
        {
          "output_type": "execute_result",
          "data": {
            "text/html": [
              "<div>\n",
              "<style scoped>\n",
              "    .dataframe tbody tr th:only-of-type {\n",
              "        vertical-align: middle;\n",
              "    }\n",
              "\n",
              "    .dataframe tbody tr th {\n",
              "        vertical-align: top;\n",
              "    }\n",
              "\n",
              "    .dataframe thead th {\n",
              "        text-align: right;\n",
              "    }\n",
              "</style>\n",
              "<table border=\"1\" class=\"dataframe\">\n",
              "  <thead>\n",
              "    <tr style=\"text-align: right;\">\n",
              "      <th></th>\n",
              "      <th>Name</th>\n",
              "      <th>People</th>\n",
              "      <th>Area</th>\n",
              "      <th>Bip</th>\n",
              "      <th>Currency</th>\n",
              "    </tr>\n",
              "  </thead>\n",
              "  <tbody>\n",
              "    <tr>\n",
              "      <th>4</th>\n",
              "      <td>Brazilia</td>\n",
              "      <td>208360000</td>\n",
              "      <td>8515770</td>\n",
              "      <td>1798</td>\n",
              "      <td>REAL</td>\n",
              "    </tr>\n",
              "    <tr>\n",
              "      <th>2</th>\n",
              "      <td>Canada</td>\n",
              "      <td>36503097</td>\n",
              "      <td>9984670</td>\n",
              "      <td>1529</td>\n",
              "      <td>CAD</td>\n",
              "    </tr>\n",
              "    <tr>\n",
              "      <th>0</th>\n",
              "      <td>Germany</td>\n",
              "      <td>82521653</td>\n",
              "      <td>357385</td>\n",
              "      <td>3466</td>\n",
              "      <td>EUR</td>\n",
              "    </tr>\n",
              "    <tr>\n",
              "      <th>3</th>\n",
              "      <td>Italy</td>\n",
              "      <td>60501718</td>\n",
              "      <td>301338</td>\n",
              "      <td>1850</td>\n",
              "      <td>EUR</td>\n",
              "    </tr>\n",
              "    <tr>\n",
              "      <th>1</th>\n",
              "      <td>Japan</td>\n",
              "      <td>126045000</td>\n",
              "      <td>377835</td>\n",
              "      <td>4938</td>\n",
              "      <td>YEN</td>\n",
              "    </tr>\n",
              "  </tbody>\n",
              "</table>\n",
              "</div>"
            ],
            "text/plain": [
              "       Name     People     Area   Bip Currency\n",
              "4  Brazilia  208360000  8515770  1798     REAL\n",
              "2    Canada   36503097  9984670  1529      CAD\n",
              "0   Germany   82521653   357385  3466      EUR\n",
              "3     Italy   60501718   301338  1850      EUR\n",
              "1     Japan  126045000   377835  4938      YEN"
            ]
          },
          "metadata": {
            "tags": []
          },
          "execution_count": 83
        }
      ]
    },
    {
      "cell_type": "code",
      "metadata": {
        "id": "ozzKKli6mgI9",
        "colab_type": "code",
        "colab": {
          "base_uri": "https://localhost:8080/",
          "height": 206
        },
        "outputId": "a1eda35a-b5d4-4563-ddf0-60c569341e72"
      },
      "source": [
        "c2 = countries\n",
        "c2['Area'] = c2['Area'].apply(lambda x : 'BIG' if x > 1000000 else 'SMALL')\n",
        "c2"
      ],
      "execution_count": 92,
      "outputs": [
        {
          "output_type": "execute_result",
          "data": {
            "text/html": [
              "<div>\n",
              "<style scoped>\n",
              "    .dataframe tbody tr th:only-of-type {\n",
              "        vertical-align: middle;\n",
              "    }\n",
              "\n",
              "    .dataframe tbody tr th {\n",
              "        vertical-align: top;\n",
              "    }\n",
              "\n",
              "    .dataframe thead th {\n",
              "        text-align: right;\n",
              "    }\n",
              "</style>\n",
              "<table border=\"1\" class=\"dataframe\">\n",
              "  <thead>\n",
              "    <tr style=\"text-align: right;\">\n",
              "      <th></th>\n",
              "      <th>Name</th>\n",
              "      <th>People</th>\n",
              "      <th>Area</th>\n",
              "      <th>Bip</th>\n",
              "      <th>Currency</th>\n",
              "    </tr>\n",
              "  </thead>\n",
              "  <tbody>\n",
              "    <tr>\n",
              "      <th>4</th>\n",
              "      <td>Brazilia</td>\n",
              "      <td>208360000</td>\n",
              "      <td>BIG</td>\n",
              "      <td>1798</td>\n",
              "      <td>REAL</td>\n",
              "    </tr>\n",
              "    <tr>\n",
              "      <th>2</th>\n",
              "      <td>Canada</td>\n",
              "      <td>36503097</td>\n",
              "      <td>BIG</td>\n",
              "      <td>1529</td>\n",
              "      <td>CAD</td>\n",
              "    </tr>\n",
              "    <tr>\n",
              "      <th>0</th>\n",
              "      <td>Germany</td>\n",
              "      <td>82521653</td>\n",
              "      <td>SMALL</td>\n",
              "      <td>3466</td>\n",
              "      <td>EUR</td>\n",
              "    </tr>\n",
              "    <tr>\n",
              "      <th>3</th>\n",
              "      <td>Italy</td>\n",
              "      <td>60501718</td>\n",
              "      <td>SMALL</td>\n",
              "      <td>1850</td>\n",
              "      <td>EUR</td>\n",
              "    </tr>\n",
              "    <tr>\n",
              "      <th>1</th>\n",
              "      <td>Japan</td>\n",
              "      <td>126045000</td>\n",
              "      <td>SMALL</td>\n",
              "      <td>4938</td>\n",
              "      <td>YEN</td>\n",
              "    </tr>\n",
              "  </tbody>\n",
              "</table>\n",
              "</div>"
            ],
            "text/plain": [
              "       Name     People   Area   Bip Currency\n",
              "4  Brazilia  208360000    BIG  1798     REAL\n",
              "2    Canada   36503097    BIG  1529      CAD\n",
              "0   Germany   82521653  SMALL  3466      EUR\n",
              "3     Italy   60501718  SMALL  1850      EUR\n",
              "1     Japan  126045000  SMALL  4938      YEN"
            ]
          },
          "metadata": {
            "tags": []
          },
          "execution_count": 92
        }
      ]
    }
  ]
}